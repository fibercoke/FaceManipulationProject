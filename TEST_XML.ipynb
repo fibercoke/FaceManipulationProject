{
 "cells": [
  {
   "cell_type": "code",
   "execution_count": 25,
   "metadata": {},
   "outputs": [],
   "source": [
    "from xml.etree.ElementTree import Element, SubElement, tostring"
   ]
  },
  {
   "cell_type": "code",
   "execution_count": 30,
   "metadata": {},
   "outputs": [],
   "source": [
    "def generate_xml(x1, y1, x2, y2):\n",
    "    top = Element('annotation')\n",
    "\n",
    "    filename = SubElement(top, 'filename')\n",
    "    filename.text = '1.jpg'\n",
    "\n",
    "    folder = SubElement(top, 'pred')\n",
    "    folder.text = 'pred'\n",
    "\n",
    "    objs = SubElement(top, 'object')\n",
    "    bndbox = SubElement(objs, 'bndbox')\n",
    "\n",
    "    xmin = SubElement(bndbox, 'xmin')\n",
    "    xmin.text = str(x1)\n",
    "    ymin = SubElement(bndbox, 'ymin')\n",
    "    ymin.text = str(y1)\n",
    "    xmax = SubElement(bndbox, 'xmax')\n",
    "    xmax.text = str(x2)\n",
    "    ymax = SubElement(bndbox, 'ymax')\n",
    "    ymax.text = str(y2)\n",
    "    return tostring(top)"
   ]
  },
  {
   "cell_type": "code",
   "execution_count": 31,
   "metadata": {},
   "outputs": [
    {
     "data": {
      "text/plain": [
       "b'<annotation><filename>1.jpg</filename><pred>pred</pred><object><bndbox><xmin>2</xmin><ymin>3</ymin><xmax>3</xmax><ymax>3</ymax></bndbox></object></annotation>'"
      ]
     },
     "execution_count": 31,
     "metadata": {},
     "output_type": "execute_result"
    }
   ],
   "source": [
    "generate_xml(2,3,3,3)"
   ]
  },
  {
   "cell_type": "code",
   "execution_count": null,
   "metadata": {},
   "outputs": [],
   "source": []
  },
  {
   "cell_type": "code",
   "execution_count": null,
   "metadata": {},
   "outputs": [],
   "source": []
  }
 ],
 "metadata": {
  "kernelspec": {
   "display_name": "Python 3",
   "language": "python",
   "name": "python3"
  },
  "language_info": {
   "codemirror_mode": {
    "name": "ipython",
    "version": 3
   },
   "file_extension": ".py",
   "mimetype": "text/x-python",
   "name": "python",
   "nbconvert_exporter": "python",
   "pygments_lexer": "ipython3",
   "version": "3.8.2"
  }
 },
 "nbformat": 4,
 "nbformat_minor": 4
}
